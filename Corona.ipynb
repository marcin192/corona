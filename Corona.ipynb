{
  "nbformat": 4,
  "nbformat_minor": 0,
  "metadata": {
    "colab": {
      "name": "Untitled3.ipynb",
      "provenance": [],
      "collapsed_sections": [],
      "authorship_tag": "ABX9TyNh/iOJNDvEAZnt9xNt4LX7",
      "include_colab_link": true
    },
    "kernelspec": {
      "name": "python3",
      "display_name": "Python 3"
    }
  },
  "cells": [
    {
      "cell_type": "markdown",
      "metadata": {
        "id": "view-in-github",
        "colab_type": "text"
      },
      "source": [
        "<a href=\"https://colab.research.google.com/github/marcin192/corona/blob/master/Corona.ipynb\" target=\"_parent\"><img src=\"https://colab.research.google.com/assets/colab-badge.svg\" alt=\"Open In Colab\"/></a>"
      ]
    },
    {
      "cell_type": "code",
      "metadata": {
        "id": "5MBxRQN9tVhY",
        "colab_type": "code",
        "colab": {}
      },
      "source": [
        "import numpy as np\n",
        "import pandas as pd\n",
        "import datetime\n",
        "import matplotlib.pyplot as plt\n",
        "from pandas.plotting import register_matplotlib_converters\n",
        "register_matplotlib_converters()\n",
        "#%matplotlib inline\n",
        "import plotly.express as px\n",
        "import plotly.graph_objects as go\n",
        "from plotly.subplots import make_subplots\n",
        "plt.rcParams['figure.figsize'] = [15, 5]\n",
        "from IPython import display\n",
        "from ipywidgets import interact, widgets\n",
        "pd.set_option('mode.chained_assignment', None)"
      ],
      "execution_count": 0,
      "outputs": []
    },
    {
      "cell_type": "code",
      "metadata": {
        "id": "L-bmFnnntXlS",
        "colab_type": "code",
        "colab": {}
      },
      "source": [
        "def download(option):\n",
        "  if option==\"Cases\":\n",
        "    url = f\"https://raw.githubusercontent.com/CSSEGISandData/COVID-19/master/csse_covid_19_data/csse_covid_19_time_series/time_series_covid19_confirmed_global.csv\"\n",
        "  elif option==\"Population\":\n",
        "    url=f\"https://raw.githubusercontent.com/marcin192/pop/master/popek.csv\"\n",
        "  dfC = pd.read_csv(url, error_bad_lines=False)\n",
        "  return dfC"
      ],
      "execution_count": 0,
      "outputs": []
    },
    {
      "cell_type": "code",
      "metadata": {
        "id": "Yd0Ll-_NtsVT",
        "colab_type": "code",
        "colab": {}
      },
      "source": [
        "def differentiate(datex,dt):\n",
        "  datexC=datex.strftime('%m/%d/%y').lstrip(\"0\").replace(\" 0\", \" \").replace(\" 0/\",\" /\")\n",
        "  dateo=datex+datetime.timedelta(days=-dt)\n",
        "  dateoC=dateo.strftime('%m/%d/%y').lstrip(\"0\").replace(\" 0\", \" \").replace(\" 0/\",\" /\")\n",
        "  dfC=download(\"Cases\")\n",
        "  dfM=dfC[[\"Country/Region\",datexC,dateoC]]\n",
        "  dfM[[\"diff\"]]=-dfM[[dateoC]]\n",
        "  dfM[[\"diff\"]]=0\n",
        "  it=0\n",
        "  l=dfM.shape[0]\n",
        "  for i in range(0,l):\n",
        "    dfM[\"diff\"].iloc[it:it+1]=(dfM[datexC].iloc[it:it+1]-dfM[dateoC].iloc[it:it+1])/dt\n",
        "    it=it+1\n",
        "  \n",
        "  return dfM.sort_values(by=\"diff\",ascending=False)\n"
      ],
      "execution_count": 0,
      "outputs": []
    },
    {
      "cell_type": "code",
      "metadata": {
        "id": "k8lqsbnb5o3N",
        "colab_type": "code",
        "colab": {}
      },
      "source": [
        "def plotd(date,dt,ex):\n",
        "  \"\"\"formated_gdf = dfD.groupby([\"Country/Region\"]).max()\"\"\"\n",
        "  dfg=differentiate(date,dt)\n",
        "  dfg=dfg.groupby([\"Country/Region\"]).sum()\n",
        "  formated_gdf = dfg.reset_index()\n",
        "  formated_gdf['size'] = formated_gdf[[\"diff\"]].pow(ex)\n",
        "\n",
        "\n",
        "\n",
        "  fig = px.choropleth(formated_gdf, locations=\"Country/Region\", locationmode='country names', \n",
        "                     color=\"diff\", hover_name=\"Country/Region\", \n",
        "                     range_color= [0, max(formated_gdf[\"diff\"].pow(ex))+2], \n",
        "                     projection=\"natural earth\",\n",
        "                     labels={\"diff\":\"Średni dzienny przyrost\"},\n",
        "                     title=f\"Średni dzienny przyrost w okresie od {date+datetime.timedelta(days=-dt)} do {date}\")\n",
        "\n",
        "\n",
        "\n",
        "\n",
        "\n",
        "  fig.show()\n",
        "  return formated_gdf.sort_values(by=\"diff\",ascending=False)"
      ],
      "execution_count": 0,
      "outputs": []
    },
    {
      "cell_type": "code",
      "metadata": {
        "id": "aMhFUdOJRJnl",
        "colab_type": "code",
        "colab": {}
      },
      "source": [
        "def population(option):\n",
        "  pop=download(\"Population\")\n",
        "  pop=pop.sort_values(by=\"Country\")\n",
        "  pop=pop.reset_index()\n",
        "  pop=pop.drop([\"index\"],axis=1)\n",
        "  if(option==1):\n",
        "    pop=pop.drop([\"Country\"],axis=1)\n",
        "    return pop\n",
        "  else:\n",
        "    return pop"
      ],
      "execution_count": 0,
      "outputs": []
    },
    {
      "cell_type": "code",
      "metadata": {
        "id": "iYG8W_DnRKiP",
        "colab_type": "code",
        "colab": {}
      },
      "source": [
        "def confirmparse():\n",
        "  dfC=download(\"Cases\")\n",
        "  dfC=dfC.groupby(by=\"Country/Region\").sum().reset_index()\n",
        "  dfC=dfC.drop(dfC[dfC[\"Country/Region\"]==\"Kosovo\"].index,axis=0)\n",
        "  dfC=dfC.drop(dfC[dfC[\"Country/Region\"]==\"Diamond Princess\"].index,axis=0)\n",
        "  dfC=dfC.drop(dfC[dfC[\"Country/Region\"]==\"West Bank and Gaza\"].index,axis=0)\n",
        "  dfC=dfC.reset_index()\n",
        "  dfC=dfC.drop([\"index\"],axis=1)\n",
        "  index1=dfC[dfC[\"Country/Region\"]==\"Congo (Brazzaville)\"].index\n",
        "  index2=dfC[dfC[\"Country/Region\"]==\"Congo (Kinshasa)\"].index\n",
        "  dfC.loc[index1[0]] += dfC.loc[index2[0]]\n",
        "  dfC=dfC.drop(dfC[dfC[\"Country/Region\"]==\"Congo (Kinshasa)\"].index,axis=0)\n",
        "  dfC.at[index1[0],\"Country/Region\"]=\"Congo\"\n",
        "  dfC=dfC.drop([\"Lat\",\"Long\"],axis=1)\n",
        "  dfC=dfC.reset_index()\n",
        "  dfC=dfC.drop([\"index\"],axis=1)\n",
        "  return dfC"
      ],
      "execution_count": 0,
      "outputs": []
    },
    {
      "cell_type": "code",
      "metadata": {
        "id": "TcLHui7vSyaI",
        "colab_type": "code",
        "colab": {}
      },
      "source": [
        "def differentiate_population(datex,dt):\n",
        "  datexC=datex.strftime('%m/%d/%y').lstrip(\"0\").replace(\" 0\", \" \").replace(\" 0/\",\" /\")\n",
        "  dateo=datex+datetime.timedelta(days=-dt)\n",
        "  dateoC=dateo.strftime('%m/%d/%y').lstrip(\"0\").replace(\" 0\", \" \").replace(\" 0/\",\" /\")\n",
        "  c=confirmparse()\n",
        "  p=population(1)\n",
        "  j=pd.concat([p,c],axis=1)\n",
        "  m=j[[\"Population\",\"Country/Region\",datexC,dateoC]]\n",
        "  m[[\"diff%\"]]=m[[dateoC]]\n",
        "  m[[\"diff%\"]]=0\n",
        "  it=0\n",
        "  l=m.shape[0]\n",
        "  for i in range(0,l):\n",
        "    m[\"diff%\"].iloc[it:it+1]=(m[datexC].iloc[it:it+1]-m[dateoC].iloc[it:it+1])/dt/(m[\"Population\"].iloc[it:it+1])*1000000\n",
        "    it=it+1\n",
        "  \n",
        "  return m.sort_values(by=\"diff%\",ascending=False)"
      ],
      "execution_count": 0,
      "outputs": []
    },
    {
      "cell_type": "code",
      "metadata": {
        "id": "_E0yCIkhVk0U",
        "colab_type": "code",
        "outputId": "3c641764-85ef-4c9b-aabe-5e2dde7ad6cc",
        "colab": {
          "base_uri": "https://localhost:8080/",
          "height": 35
        }
      },
      "source": [
        "def plotdp(date,dt,ex):\n",
        "  \"\"\"formated_gdf = dfD.groupby([\"Country/Region\"]).max()\"\"\"\n",
        "  dfg=differentiate_population(date,dt)\n",
        "  dfg=dfg.groupby([\"Country/Region\"]).sum()\n",
        "  indexNames=dfg[dfg[\"Population\"]<1000000].index\n",
        "  dfg.drop(indexNames , inplace=True)\n",
        "  formated_gdf = dfg.reset_index()\n",
        "  formated_gdf['size'] = formated_gdf[[\"diff%\"]].pow(ex)\n",
        "\n",
        "\n",
        "\n",
        "  fig = px.choropleth(formated_gdf, locations=\"Country/Region\", locationmode='country names', \n",
        "                     color=\"diff%\", hover_name=\"Country/Region\", \n",
        "                     range_color= [0, max(formated_gdf[\"diff%\"].pow(ex))+2], \n",
        "                     projection=\"natural earth\",\n",
        "                     labels={\"diff\":\"Średni dzienny przyrost\"},\n",
        "                     title=f\"Średni dzienny przyrost na 1 000 000 mieszkańców w okresie od {date+datetime.timedelta(days=-dt)} do {date}\")\n",
        "\n",
        "\n",
        "\n",
        "\n",
        "\n",
        "  fig.show()\n",
        "  return formated_gdf.sort_values(by=\"diff%\",ascending=False)"
      ],
      "execution_count": 0,
      "outputs": [
        {
          "output_type": "stream",
          "text": [
            "ERROR! Session/line number was not unique in database. History logging moved to new session 60\n"
          ],
          "name": "stdout"
        }
      ]
    }
  ]
}