{
  "nbformat": 4,
  "nbformat_minor": 0,
  "metadata": {
    "colab": {
      "name": "Untitled3.ipynb",
      "provenance": [],
      "collapsed_sections": [],
      "authorship_tag": "ABX9TyMDkesE4Xne5L9eePw5fsMq",
      "include_colab_link": true
    },
    "kernelspec": {
      "name": "python3",
      "display_name": "Python 3"
    }
  },
  "cells": [
    {
      "cell_type": "markdown",
      "metadata": {
        "id": "view-in-github",
        "colab_type": "text"
      },
      "source": [
        "<a href=\"https://colab.research.google.com/github/marcin192/corona/blob/master/Corona.ipynb\" target=\"_parent\"><img src=\"https://colab.research.google.com/assets/colab-badge.svg\" alt=\"Open In Colab\"/></a>"
      ]
    },
    {
      "cell_type": "code",
      "metadata": {
        "id": "5MBxRQN9tVhY",
        "colab_type": "code",
        "colab": {}
      },
      "source": [
        "import numpy as np\n",
        "import pandas as pd\n",
        "import datetime\n",
        "import matplotlib.pyplot as plt\n",
        "from pandas.plotting import register_matplotlib_converters\n",
        "register_matplotlib_converters()\n",
        "#%matplotlib inline\n",
        "import plotly.express as px\n",
        "import plotly.graph_objects as go\n",
        "from plotly.subplots import make_subplots\n",
        "plt.rcParams['figure.figsize'] = [15, 5]\n",
        "from IPython import display\n",
        "from ipywidgets import interact, widgets\n",
        "pd.set_option('mode.chained_assignment', None)"
      ],
      "execution_count": 0,
      "outputs": []
    },
    {
      "cell_type": "code",
      "metadata": {
        "id": "L-bmFnnntXlS",
        "colab_type": "code",
        "colab": {}
      },
      "source": [
        "def download(option):#funkcja pobierająca pliki .csv z repozytorium GitHub w zależności od wybranej opcji pobiera albo dane o koronawirusie albo o populacji i zwraca DataFrame\n",
        "  if option==\"Cases\":\n",
        "    #url = f\"https://raw.githubusercontent.com/marcin192/pop/master/states/time_series_covid19_confirmed_global.csv\"\n",
        "    url=f\"https://raw.githubusercontent.com/CSSEGISandData/COVID-19/master/csse_covid_19_data/csse_covid_19_time_series/time_series_covid19_confirmed_global.csv\"\n",
        "  elif option==\"Population\":\n",
        "    url=f\"https://raw.githubusercontent.com/marcin192/pop/master/popek.csv\"\n",
        "  dfd = pd.read_csv(url, error_bad_lines=False)\n",
        "  return dfd"
      ],
      "execution_count": 0,
      "outputs": []
    },
    {
      "cell_type": "code",
      "metadata": {
        "id": "7qUSeRQhRCw5",
        "colab_type": "code",
        "colab": {}
      },
      "source": [
        "def dateTostr(date):#funkcja konwertujące datę z datetime na string \n",
        "  date_str=date.strftime('%m/%d/%y').lstrip(\"0\").replace(\" 0\", \" \").replace(\" 0/\",\" /\")\n",
        "  return date_str"
      ],
      "execution_count": 0,
      "outputs": []
    },
    {
      "cell_type": "code",
      "metadata": {
        "id": "Yd0Ll-_NtsVT",
        "colab_type": "code",
        "colab": {}
      },
      "source": [
        "def differentiate(datex,dt):#funkcja wyznacza średni dzienny przyrost pzrypadków dla podanej daty \"datex\" i okresu poprzedzającego \"dt\"\n",
        "  datexC=dateTostr(datex)#konwersja z obiektu datetime daty kończącej okres do stringa, potrzebne do obsługi DataFrame\n",
        "  dateo=datex+datetime.timedelta(days=-dt)#wyznaczenie daty rozpoczynającej okres\n",
        "  dateoC=dateTostr(dateo)#konwersja z obiektu datetime daty rozpoczynającej okres do stringa, potrzebne do obsługi DataFrame\n",
        "  dfC=download(\"Cases\")#pobranie DataFrame z przypadkami COVID-19\n",
        "  dfM=dfC[[\"Country/Region\",datexC,dateoC]]#wybranie interesujących nas kolumn\n",
        "  dfM[[\"diff\"]]=-dfM[[dateoC]]#stworzenie nowej kolumny w której będzie przyrost\n",
        "  dfM[[\"diff\"]]=0\n",
        "  it=0#zmienna indeksująca\n",
        "  l=dfM.shape[0]#ilośc pozycji tabeli\n",
        "  for i in range(0,l):\n",
        "    dfM[\"diff\"].iloc[it:it+1]=(dfM[datexC].iloc[it:it+1]-dfM[dateoC].iloc[it:it+1])/dt#wyznaczenie średniego przyrostu poprzez różnicę miedzy danymi dniami podzieloną przez liczbe dni okresu\n",
        "    it=it+1\n",
        "  \n",
        "  return dfM.sort_values(by=\"diff\",ascending=False)#zwrócenie DataFrame posortowanego malejąco po przyrostach\n"
      ],
      "execution_count": 0,
      "outputs": []
    },
    {
      "cell_type": "code",
      "metadata": {
        "id": "k8lqsbnb5o3N",
        "colab_type": "code",
        "colab": {}
      },
      "source": [
        "def plotd(date,dt,ex):#funkcja wyświetlająca kartogram średnich dziennych przyrostów dla danej daty i okresu poprzedzającego z możliwością podniesienia wartości do \"ex\" potęgi\n",
        "                                                                                                  #dla \"ex\" od 0 do 1 pomaga zobrazować wyniki,które są bardzo zróżnicowane\n",
        "  dfg=differentiate(date,dt)#DataFrame zawierający średnie dzienne przyrosty \n",
        "  dfg=dfg.groupby([\"Country/Region\"]).sum()#pogrupowanie względem kraju i zsumowanie wyników każdej prowincji danego kraju\n",
        "  formated_gdf = dfg.reset_index()#przywrócenie indeksowania by było ciagłe\n",
        "  formated_gdf['size'] = formated_gdf[[\"diff\"]].pow(ex)#dodanie nowej kolumny z wartośćiami dla kartogramu przeskalowanymi potęgą do \"ex\"\n",
        "\n",
        "\n",
        "\n",
        "  fig = px.choropleth(formated_gdf, locations=\"Country/Region\", locationmode='country names', #tworzenie kartogamu\n",
        "                     color=\"diff\", hover_name=\"Country/Region\", \n",
        "                     range_color= [0, max(formated_gdf[\"diff\"].pow(ex))+2], \n",
        "                     projection=\"natural earth\",\n",
        "                     labels={\"diff\":\"Średni dzienny przyrost\"},\n",
        "                     title=f\"Średni dzienny przyrost w okresie od {date+datetime.timedelta(days=-dt)} do {date}\")\n",
        "\n",
        "\n",
        "\n",
        "\n",
        "\n",
        "  fig.show()#wyświetlenie wykresu\n",
        "  return formated_gdf.sort_values(by=\"diff\",ascending=False).reset_index().drop([\"index\"],axis=1)#zwrócenie DataFrame posortowanego względem przyrostu z zresetowanym indeksowaniem"
      ],
      "execution_count": 0,
      "outputs": []
    },
    {
      "cell_type": "code",
      "metadata": {
        "id": "aMhFUdOJRJnl",
        "colab_type": "code",
        "colab": {}
      },
      "source": [
        "def population(option):#funckja zwracająca DataFrame populacji z posortowanymi alfabetycznie państwami w zależności od wybranej opcji \n",
        "                                                                                              #1 zwraca DataFrame tylko z populacja\n",
        "                                                                                              #inne zwraca DataFrame z populacją i odpowiadającym jej państwom\n",
        "  pop=download(\"Population\")\n",
        "  pop=pop.sort_values(by=\"Country\")#sortowanie alfabetycznie po państwach\n",
        "  pop=pop.reset_index()#zresetowanie indeksowania\n",
        "  pop=pop.drop([\"index\"],axis=1)\n",
        "  if(option==1):\n",
        "    pop=pop.drop([\"Country\"],axis=1)#usunięcie kolumny z panstwami dla \"option\" równej 1\n",
        "    return pop\n",
        "  else:\n",
        "    return pop"
      ],
      "execution_count": 0,
      "outputs": []
    },
    {
      "cell_type": "code",
      "metadata": {
        "id": "iYG8W_DnRKiP",
        "colab_type": "code",
        "colab": {}
      },
      "source": [
        "def confirmparse():#funkcja dopasowująca DataFrame przypadków dla danych populacji\n",
        "  dfC=download(\"Cases\")#pobranie DataFrame z przypadkami\n",
        "  dfC=dfC.groupby(by=\"Country/Region\").sum().reset_index()#scalenie wyników względem kraju\n",
        "  dfC=dfC.drop(dfC[dfC[\"Country/Region\"]==\"Kosovo\"].index,axis=0)\n",
        "  dfC=dfC.drop(dfC[dfC[\"Country/Region\"]==\"Diamond Princess\"].index,axis=0)#usuniecie pozycji dla których nie są dostępne dane o populacji\n",
        "  dfC=dfC.drop(dfC[dfC[\"Country/Region\"]==\"West Bank and Gaza\"].index,axis=0)\n",
        "  dfC=dfC.reset_index()#zresetowanie indeksowania\n",
        "  dfC=dfC.drop([\"index\"],axis=1)\n",
        "  index1=dfC[dfC[\"Country/Region\"]==\"Congo (Brazzaville)\"].index\n",
        "  index2=dfC[dfC[\"Country/Region\"]==\"Congo (Kinshasa)\"].index #scalenie dwóch części państwa do jednej\n",
        "  index3=dfC[dfC[\"Country/Region\"]==\"Korea, South\"].index\n",
        "  dfC.loc[index1[0]] += dfC.loc[index2[0]]#przekierowanie danych do jednego wiersza\n",
        "  dfC=dfC.drop(dfC[dfC[\"Country/Region\"]==\"Congo (Kinshasa)\"].index,axis=0)\n",
        "  dfC.at[index1[0],\"Country/Region\"]=\"Congo\"#przemianowanie częsci pańtwa na państwo\n",
        "  dfC.at[index3[0],\"Country/Region\"]=\"Korea South\"\n",
        "  dfC=dfC.drop([\"Lat\",\"Long\"],axis=1)#pozbycie się nieużywanych kolumn\n",
        "  dfC=dfC.reset_index()\n",
        "  dfC=dfC.drop([\"index\"],axis=1)#zresetowanie indeksowania\n",
        "  return dfC#zwrócenie DataFrame z przypadkami w dobrej formie"
      ],
      "execution_count": 0,
      "outputs": []
    },
    {
      "cell_type": "code",
      "metadata": {
        "colab_type": "code",
        "id": "XqafaNUxdXX_",
        "colab": {}
      },
      "source": [
        "def differentiate_population(datex,dt):#funkcja wyznacza średni dzienny przyrost przypadków na 1 000 000 mieszkańców dla podanej daty \"datex\" i okresu poprzedzającego \"dt\"\n",
        "  datexC=dateTostr(datex)#konwersja z obiektu datetime daty kończącej okres do stringa, potrzebne do obsługi DataFrame\n",
        "  dateo=datex+datetime.timedelta(days=-dt)#data rozpoczynająca okres \n",
        "  dateoC=dateTostr(dateo)#konwersja z obiektu datetime daty rozpoczynajacej okres do stringa, potrzebne do obsługi DataFrame\n",
        "  #c=confirmparse()\n",
        "  #p=population(1)\n",
        "  #j=pd.concat([p,c],axis=1)#połączenie dwóch DataFrame w jeden\n",
        "  c=confirmparse()#przekazanie dobrze obrobionego DataFrame z przypadkami\n",
        "  p=population(0).rename(columns={\"Country\":\"Country/Region\"})#przekazanie DataFrame z populacją zawierajacego tylko dane o populacji z dostosowanym nazewnictwem\n",
        "                                                                #potrzebne do połączenia DataFrame względem państw\n",
        "  j=p.join(c.set_index(\"Country/Region\"),on=\"Country/Region\").dropna().reset_index().drop([\"index\"],axis=1)#połączenie DataFrame względem państw usunięcie wierszy dla których\n",
        "                                                                                                            #nie ma danych i zresetowanie indeksowania\n",
        "  m=j[[\"Population\",\"Country/Region\",datexC,dateoC]]#wybranie interesujących kolumn\n",
        "  m[[\"diff%\"]]=m[[dateoC]]#stworzenie nowej kolumny z przyrostem\n",
        "  m[[\"diff%\"]]=0\n",
        "  it=0#zmienna indeksująca\n",
        "  l=m.shape[0]#ile jest pozycji\n",
        "  for i in range(0,l):\n",
        "    m[\"diff%\"].iloc[it:it+1]=(m[datexC].iloc[it:it+1]-m[dateoC].iloc[it:it+1])/dt/(m[\"Population\"].iloc[it:it+1])*1000000#wyznaczenie przyrostu poprzez podzielenie różnicy przez okres\n",
        "                                                                                                                        #i ilość populacji pąnstwa i pomnożenie przez milion\n",
        "    it=it+1\n",
        "  \n",
        "  return m.sort_values(by=\"diff%\",ascending=False)#zwrócenie posortowanego malejąco po przyrostach DataFrame"
      ],
      "execution_count": 0,
      "outputs": []
    },
    {
      "cell_type": "code",
      "metadata": {
        "id": "_E0yCIkhVk0U",
        "colab_type": "code",
        "colab": {}
      },
      "source": [
        "def plotdp(date,dt,ex):\n",
        "  dfg=differentiate_population(date,dt)#DataFrame zawierający średnie dzienne przyrosty\n",
        "  dfg=dfg.groupby([\"Country/Region\"]).sum()#pogrupowanie względem kraju i zsumowanie wyników każdej prowincji danego kraju\n",
        "  indexNames=dfg[dfg[\"Population\"]<100000].index#pozbycie sie państw poniżej 1 000 000 mieszkańców, by wyniki były sprawiedliwe\n",
        "  dfg.drop(indexNames , inplace=True)\n",
        "  formated_gdf = dfg.reset_index()\n",
        "  formated_gdf['size'] = (formated_gdf[[\"diff%\"]].pow(ex))#utworzenie nowej kolumny z przyrostami przeskalowanymi\n",
        "\n",
        "\n",
        "\n",
        "  fig = px.choropleth(formated_gdf, locations=\"Country/Region\", locationmode='country names', #tworzenie wykresu\n",
        "                     color=\"diff%\", hover_name=\"Country/Region\", \n",
        "                     range_color= [0, max((formated_gdf[\"diff%\"]).pow(ex))+2], \n",
        "                     projection=\"natural earth\",\n",
        "                     labels={\"diff\":\"Średni dzienny przyrost\"},\n",
        "                     title=f\"Średni dzienny przyrost na 1 000 000 mieszkańców w okresie od {date+datetime.timedelta(days=-dt)} do {date}\")\n",
        "\n",
        "\n",
        "\n",
        "\n",
        "\n",
        "  fig.show()#wyświetlenie wykresu\n",
        "  return formated_gdf.sort_values(by=\"diff%\",ascending=False).reset_index().drop([\"index\"],axis=1)#zwrócenie DataFrame posortowanego względem przyrostu z zresetowanym indeksowaniem"
      ],
      "execution_count": 0,
      "outputs": []
    },
    {
      "cell_type": "code",
      "metadata": {
        "id": "Lc70z69MOp3r",
        "colab_type": "code",
        "outputId": "23659c61-7a16-4cbf-d54b-c71fa4c66d7e",
        "colab": {
          "base_uri": "https://localhost:8080/",
          "height": 888
        }
      },
      "source": [
        "plotdp(datetime.date(2020,3,25),7,1/3).head(10).drop([\"size\"],axis=1)"
      ],
      "execution_count": 57,
      "outputs": [
        {
          "output_type": "display_data",
          "data": {
            "text/html": [
              "<html>\n",
              "<head><meta charset=\"utf-8\" /></head>\n",
              "<body>\n",
              "    <div>\n",
              "            <script src=\"https://cdnjs.cloudflare.com/ajax/libs/mathjax/2.7.5/MathJax.js?config=TeX-AMS-MML_SVG\"></script><script type=\"text/javascript\">if (window.MathJax) {MathJax.Hub.Config({SVG: {font: \"STIX-Web\"}});}</script>\n",
              "                <script type=\"text/javascript\">window.PlotlyConfig = {MathJaxConfig: 'local'};</script>\n",
              "        <script src=\"https://cdn.plot.ly/plotly-latest.min.js\"></script>    \n",
              "            <div id=\"2c048b23-3521-45b0-811e-bcae55f55aef\" class=\"plotly-graph-div\" style=\"height:525px; width:100%;\"></div>\n",
              "            <script type=\"text/javascript\">\n",
              "                \n",
              "                    window.PLOTLYENV=window.PLOTLYENV || {};\n",
              "                    \n",
              "                if (document.getElementById(\"2c048b23-3521-45b0-811e-bcae55f55aef\")) {\n",
              "                    Plotly.newPlot(\n",
              "                        '2c048b23-3521-45b0-811e-bcae55f55aef',\n",
              "                        [{\"coloraxis\": \"coloraxis\", \"geo\": \"geo\", \"hoverlabel\": {\"namelength\": 0}, \"hovertemplate\": \"<b>%{hovertext}</b><br><br>Country/Region=%{location}<br>diff%=%{z}\", \"hovertext\": [\"Afghanistan\", \"Albania\", \"Algeria\", \"Angola\", \"Argentina\", \"Armenia\", \"Australia\", \"Austria\", \"Azerbaijan\", \"Bahamas\", \"Bahrain\", \"Bangladesh\", \"Barbados\", \"Belarus\", \"Belgium\", \"Belize\", \"Benin\", \"Bhutan\", \"Bolivia\", \"Bosnia and Herzegovina\", \"Brazil\", \"Brunei\", \"Bulgaria\", \"Burkina Faso\", \"Cabo Verde\", \"Cambodia\", \"Cameroon\", \"Canada\", \"Central African Republic\", \"Chad\", \"Chile\", \"China\", \"Colombia\", \"Congo\", \"Costa Rica\", \"Cote d'Ivoire\", \"Croatia\", \"Cuba\", \"Cyprus\", \"Czechia\", \"Denmark\", \"Dominican Republic\", \"Ecuador\", \"Egypt\", \"El Salvador\", \"Equatorial Guinea\", \"Eritrea\", \"Estonia\", \"Eswatini\", \"Ethiopia\", \"Fiji\", \"Finland\", \"France\", \"Gabon\", \"Gambia\", \"Georgia\", \"Germany\", \"Ghana\", \"Greece\", \"Grenada\", \"Guatemala\", \"Guinea\", \"Guinea-Bissau\", \"Guyana\", \"Haiti\", \"Honduras\", \"Hungary\", \"Iceland\", \"India\", \"Indonesia\", \"Iran\", \"Iraq\", \"Ireland\", \"Israel\", \"Italy\", \"Jamaica\", \"Japan\", \"Jordan\", \"Kazakhstan\", \"Kenya\", \"Korea South\", \"Kuwait\", \"Kyrgyzstan\", \"Laos\", \"Latvia\", \"Lebanon\", \"Liberia\", \"Libya\", \"Lithuania\", \"Luxembourg\", \"Madagascar\", \"Malaysia\", \"Maldives\", \"Mali\", \"Malta\", \"Mauritania\", \"Mauritius\", \"Mexico\", \"Moldova\", \"Mongolia\", \"Montenegro\", \"Morocco\", \"Mozambique\", \"Namibia\", \"Nepal\", \"Netherlands\", \"New Zealand\", \"Nicaragua\", \"Niger\", \"Nigeria\", \"North Macedonia\", \"Norway\", \"Oman\", \"Pakistan\", \"Panama\", \"Papua New Guinea\", \"Paraguay\", \"Peru\", \"Philippines\", \"Poland\", \"Portugal\", \"Qatar\", \"Romania\", \"Russia\", \"Rwanda\", \"Saint Lucia\", \"Saudi Arabia\", \"Senegal\", \"Serbia\", \"Singapore\", \"Slovakia\", \"Slovenia\", \"Somalia\", \"South Africa\", \"Spain\", \"Sri Lanka\", \"Sudan\", \"Suriname\", \"Sweden\", \"Switzerland\", \"Syria\", \"Taiwan*\", \"Tanzania\", \"Thailand\", \"Timor-Leste\", \"Togo\", \"Trinidad and Tobago\", \"Tunisia\", \"Turkey\", \"US\", \"Uganda\", \"Ukraine\", \"United Arab Emirates\", \"United Kingdom\", \"Uruguay\", \"Uzbekistan\", \"Venezuela\", \"Vietnam\", \"Zambia\", \"Zimbabwe\"], \"locationmode\": \"country names\", \"locations\": [\"Afghanistan\", \"Albania\", \"Algeria\", \"Angola\", \"Argentina\", \"Armenia\", \"Australia\", \"Austria\", \"Azerbaijan\", \"Bahamas\", \"Bahrain\", \"Bangladesh\", \"Barbados\", \"Belarus\", \"Belgium\", \"Belize\", \"Benin\", \"Bhutan\", \"Bolivia\", \"Bosnia and Herzegovina\", \"Brazil\", \"Brunei\", \"Bulgaria\", \"Burkina Faso\", \"Cabo Verde\", \"Cambodia\", \"Cameroon\", \"Canada\", \"Central African Republic\", \"Chad\", \"Chile\", \"China\", \"Colombia\", \"Congo\", \"Costa Rica\", \"Cote d'Ivoire\", \"Croatia\", \"Cuba\", \"Cyprus\", \"Czechia\", \"Denmark\", \"Dominican Republic\", \"Ecuador\", \"Egypt\", \"El Salvador\", \"Equatorial Guinea\", \"Eritrea\", \"Estonia\", \"Eswatini\", \"Ethiopia\", \"Fiji\", \"Finland\", \"France\", \"Gabon\", \"Gambia\", \"Georgia\", \"Germany\", \"Ghana\", \"Greece\", \"Grenada\", \"Guatemala\", \"Guinea\", \"Guinea-Bissau\", \"Guyana\", \"Haiti\", \"Honduras\", \"Hungary\", \"Iceland\", \"India\", \"Indonesia\", \"Iran\", \"Iraq\", \"Ireland\", \"Israel\", \"Italy\", \"Jamaica\", \"Japan\", \"Jordan\", \"Kazakhstan\", \"Kenya\", \"Korea South\", \"Kuwait\", \"Kyrgyzstan\", \"Laos\", \"Latvia\", \"Lebanon\", \"Liberia\", \"Libya\", \"Lithuania\", \"Luxembourg\", \"Madagascar\", \"Malaysia\", \"Maldives\", \"Mali\", \"Malta\", \"Mauritania\", \"Mauritius\", \"Mexico\", \"Moldova\", \"Mongolia\", \"Montenegro\", \"Morocco\", \"Mozambique\", \"Namibia\", \"Nepal\", \"Netherlands\", \"New Zealand\", \"Nicaragua\", \"Niger\", \"Nigeria\", \"North Macedonia\", \"Norway\", \"Oman\", \"Pakistan\", \"Panama\", \"Papua New Guinea\", \"Paraguay\", \"Peru\", \"Philippines\", \"Poland\", \"Portugal\", \"Qatar\", \"Romania\", \"Russia\", \"Rwanda\", \"Saint Lucia\", \"Saudi Arabia\", \"Senegal\", \"Serbia\", \"Singapore\", \"Slovakia\", \"Slovenia\", \"Somalia\", \"South Africa\", \"Spain\", \"Sri Lanka\", \"Sudan\", \"Suriname\", \"Sweden\", \"Switzerland\", \"Syria\", \"Taiwan*\", \"Tanzania\", \"Thailand\", \"Timor-Leste\", \"Togo\", \"Trinidad and Tobago\", \"Tunisia\", \"Turkey\", \"US\", \"Uganda\", \"Ukraine\", \"United Arab Emirates\", \"United Kingdom\", \"Uruguay\", \"Uzbekistan\", \"Venezuela\", \"Vietnam\", \"Zambia\", \"Zimbabwe\"], \"name\": \"\", \"type\": \"choropleth\", \"z\": [0.22752425333310738, 4.3187797570750925, 0.7427743013696224, 0.013039855222138626, 0.9735423493355816, 8.725961001896524, 10.061670420595973, 62.526978836917614, 0.9158252475239644, 1.453114533034379, 13.68480042649562, 0.021685845841249957, 7.953768719318958, 0.5291384366901205, 42.53805322226616, 0.7185466961941456, 0.04713512698203209, 0.18514212249891507, 0.24476464637070877, 6.008952555531322, 1.4664807144925776, 13.388397745132583, 3.083937690889318, 0.8611091669711245, 1.0277732598578229, 0.5212216015935025, 0.34979892293252196, 9.818502371948048, 0.05915695016225124, 0.02609125636078739, 6.755675834484956, 0.05548240374314699, 1.058452886592919, 1.2167777917031237, 4.234575754120454, 0.4007627099266832, 12.562259305284789, 0.6306258765069058, 9.82072677401076, 15.874526250443438, 18.39912153813499, 4.885733749634722, 8.599094335611381, 0.3629557186149943, 0.1982228877616859, 0.5091185681142095, 0.1611282392667344, 15.723024916148352, 0.36940590172719423, 0.00745577684251519, 0.7967981463287924, 14.026026529816649, 36.05925665181831, 0.3209214193096364, 0.11822653575678815, 1.3250170488511224, 42.61982735136934, 0.3953830659639637, 5.523470239281939, 1.2695817109137053, 0.143530396101791, 0.03263367992658292, 0.14517994945850418, -0.36324907407811013, 0.10022840047901156, 0.3894291673705839, 2.4843817786745017, 203.87650024008863, 0.05186318924010416, 0.29404617012162343, 16.423147274285743, 0.6464044881554208, 36.8007616600407, 34.08223755088507, 91.375247014774, 0.6271658630340191, 0.47213754434736843, 1.6801560327304474, 0.34997769158503517, 0.06641886726011907, 2.0173632841749174, 1.7729312008695255, 0.8977571726692499, 0.0589056276865875, 11.36072216626856, 4.186016966136065, 0.02824558188963338, 0.020790434005299563, 12.96178116493667, 257.882180250059, 0.098020438045496, 4.440285798509903, 0.0, 0.014108767067225615, 29.44220608185386, 0.03072422592309861, 5.054830305976742, 0.3456951591767266, 4.214218127434486, 0.17430690128956602, 11.372781113540844, 0.68118330209179, 0.022853168234123578, 0.28111468720228194, 0.009805956977658147, 36.51700962308243, 5.480567079311893, 0.043129588152543655, 0.04131097230991623, 0.029799502233688567, 9.73695279182436, 40.42300593957309, 1.6784915463612513, 0.49409978246804365, 11.819873471730919, 0.015967001190244138, 0.5207523204623256, 1.451454408876821, 0.5657911122210351, 3.019708007295932, 35.68378217492946, 4.214728831040992, 4.797130502081268, 0.5002245460020266, 0.3639751673640541, 0.7779746053529321, 2.9914184821003427, 0.5801677058366125, 4.921388825082511, 7.765113805068393, 2.9044290554477485, 17.385250133893916, 0.0, 1.4283621121000263, 108.78949251835976, 0.3402432898302488, 0.003257914565881906, 1.704646183638124, 17.63919029185363, 129.88930737158216, 0.040814791894437014, 0.8097533896051957, 0.021523915918917457, 1.4776918288263234, 0.10835275104926095, 0.37963062216558285, 5.410141831461629, 1.7405949520353075, 3.9551235321518146, 25.030011013416324, 0.0437244418339981, 0.42791392412767315, 3.1776839231177285, 14.726366610556711, 5.716374864236097, 0.19207423100488616, 0.27631029103109855, 0.09686366418572259, 0.07770751334908232, 0.028834933729825204]}],\n",
              "                        {\"coloraxis\": {\"cmax\": 8.36512755352837, \"cmin\": 0, \"colorbar\": {\"title\": {\"text\": \"diff%\"}}, \"colorscale\": [[0.0, \"#0d0887\"], [0.1111111111111111, \"#46039f\"], [0.2222222222222222, \"#7201a8\"], [0.3333333333333333, \"#9c179e\"], [0.4444444444444444, \"#bd3786\"], [0.5555555555555556, \"#d8576b\"], [0.6666666666666666, \"#ed7953\"], [0.7777777777777778, \"#fb9f3a\"], [0.8888888888888888, \"#fdca26\"], [1.0, \"#f0f921\"]]}, \"geo\": {\"center\": {}, \"domain\": {\"x\": [0.0, 1.0], \"y\": [0.0, 1.0]}, \"projection\": {\"type\": \"natural earth\"}}, \"legend\": {\"tracegroupgap\": 0}, \"template\": {\"data\": {\"bar\": [{\"error_x\": {\"color\": \"#2a3f5f\"}, \"error_y\": {\"color\": \"#2a3f5f\"}, \"marker\": {\"line\": {\"color\": \"#E5ECF6\", \"width\": 0.5}}, \"type\": \"bar\"}], \"barpolar\": [{\"marker\": {\"line\": {\"color\": \"#E5ECF6\", \"width\": 0.5}}, \"type\": \"barpolar\"}], \"carpet\": [{\"aaxis\": {\"endlinecolor\": \"#2a3f5f\", \"gridcolor\": \"white\", \"linecolor\": \"white\", \"minorgridcolor\": \"white\", \"startlinecolor\": \"#2a3f5f\"}, \"baxis\": {\"endlinecolor\": \"#2a3f5f\", \"gridcolor\": \"white\", \"linecolor\": \"white\", \"minorgridcolor\": \"white\", \"startlinecolor\": \"#2a3f5f\"}, \"type\": \"carpet\"}], \"choropleth\": [{\"colorbar\": {\"outlinewidth\": 0, \"ticks\": \"\"}, \"type\": \"choropleth\"}], \"contour\": [{\"colorbar\": {\"outlinewidth\": 0, \"ticks\": \"\"}, \"colorscale\": [[0.0, \"#0d0887\"], [0.1111111111111111, \"#46039f\"], [0.2222222222222222, \"#7201a8\"], [0.3333333333333333, \"#9c179e\"], [0.4444444444444444, \"#bd3786\"], [0.5555555555555556, \"#d8576b\"], [0.6666666666666666, \"#ed7953\"], [0.7777777777777778, \"#fb9f3a\"], [0.8888888888888888, \"#fdca26\"], [1.0, \"#f0f921\"]], \"type\": \"contour\"}], \"contourcarpet\": [{\"colorbar\": {\"outlinewidth\": 0, \"ticks\": \"\"}, \"type\": \"contourcarpet\"}], \"heatmap\": [{\"colorbar\": {\"outlinewidth\": 0, \"ticks\": \"\"}, \"colorscale\": [[0.0, \"#0d0887\"], [0.1111111111111111, \"#46039f\"], [0.2222222222222222, \"#7201a8\"], [0.3333333333333333, \"#9c179e\"], [0.4444444444444444, \"#bd3786\"], [0.5555555555555556, \"#d8576b\"], [0.6666666666666666, \"#ed7953\"], [0.7777777777777778, \"#fb9f3a\"], [0.8888888888888888, \"#fdca26\"], [1.0, \"#f0f921\"]], \"type\": \"heatmap\"}], \"heatmapgl\": [{\"colorbar\": {\"outlinewidth\": 0, \"ticks\": \"\"}, \"colorscale\": [[0.0, \"#0d0887\"], [0.1111111111111111, \"#46039f\"], [0.2222222222222222, \"#7201a8\"], [0.3333333333333333, \"#9c179e\"], [0.4444444444444444, \"#bd3786\"], [0.5555555555555556, \"#d8576b\"], [0.6666666666666666, \"#ed7953\"], [0.7777777777777778, \"#fb9f3a\"], [0.8888888888888888, \"#fdca26\"], [1.0, \"#f0f921\"]], \"type\": \"heatmapgl\"}], \"histogram\": [{\"marker\": {\"colorbar\": {\"outlinewidth\": 0, \"ticks\": \"\"}}, \"type\": \"histogram\"}], \"histogram2d\": [{\"colorbar\": {\"outlinewidth\": 0, \"ticks\": \"\"}, \"colorscale\": [[0.0, \"#0d0887\"], [0.1111111111111111, \"#46039f\"], [0.2222222222222222, \"#7201a8\"], [0.3333333333333333, \"#9c179e\"], [0.4444444444444444, \"#bd3786\"], [0.5555555555555556, \"#d8576b\"], [0.6666666666666666, \"#ed7953\"], [0.7777777777777778, \"#fb9f3a\"], [0.8888888888888888, \"#fdca26\"], [1.0, \"#f0f921\"]], \"type\": \"histogram2d\"}], \"histogram2dcontour\": [{\"colorbar\": {\"outlinewidth\": 0, \"ticks\": \"\"}, \"colorscale\": [[0.0, \"#0d0887\"], [0.1111111111111111, \"#46039f\"], [0.2222222222222222, \"#7201a8\"], [0.3333333333333333, \"#9c179e\"], [0.4444444444444444, \"#bd3786\"], [0.5555555555555556, \"#d8576b\"], [0.6666666666666666, \"#ed7953\"], [0.7777777777777778, \"#fb9f3a\"], [0.8888888888888888, \"#fdca26\"], [1.0, \"#f0f921\"]], \"type\": \"histogram2dcontour\"}], \"mesh3d\": [{\"colorbar\": {\"outlinewidth\": 0, \"ticks\": \"\"}, \"type\": \"mesh3d\"}], \"parcoords\": [{\"line\": {\"colorbar\": {\"outlinewidth\": 0, \"ticks\": \"\"}}, \"type\": \"parcoords\"}], \"pie\": [{\"automargin\": true, \"type\": \"pie\"}], \"scatter\": [{\"marker\": {\"colorbar\": {\"outlinewidth\": 0, \"ticks\": \"\"}}, \"type\": \"scatter\"}], \"scatter3d\": [{\"line\": {\"colorbar\": {\"outlinewidth\": 0, \"ticks\": \"\"}}, \"marker\": {\"colorbar\": {\"outlinewidth\": 0, \"ticks\": \"\"}}, \"type\": \"scatter3d\"}], \"scattercarpet\": [{\"marker\": {\"colorbar\": {\"outlinewidth\": 0, \"ticks\": \"\"}}, \"type\": \"scattercarpet\"}], \"scattergeo\": [{\"marker\": {\"colorbar\": {\"outlinewidth\": 0, \"ticks\": \"\"}}, \"type\": \"scattergeo\"}], \"scattergl\": [{\"marker\": {\"colorbar\": {\"outlinewidth\": 0, \"ticks\": \"\"}}, \"type\": \"scattergl\"}], \"scattermapbox\": [{\"marker\": {\"colorbar\": {\"outlinewidth\": 0, \"ticks\": \"\"}}, \"type\": \"scattermapbox\"}], \"scatterpolar\": [{\"marker\": {\"colorbar\": {\"outlinewidth\": 0, \"ticks\": \"\"}}, \"type\": \"scatterpolar\"}], \"scatterpolargl\": [{\"marker\": {\"colorbar\": {\"outlinewidth\": 0, \"ticks\": \"\"}}, \"type\": \"scatterpolargl\"}], \"scatterternary\": [{\"marker\": {\"colorbar\": {\"outlinewidth\": 0, \"ticks\": \"\"}}, \"type\": \"scatterternary\"}], \"surface\": [{\"colorbar\": {\"outlinewidth\": 0, \"ticks\": \"\"}, \"colorscale\": [[0.0, \"#0d0887\"], [0.1111111111111111, \"#46039f\"], [0.2222222222222222, \"#7201a8\"], [0.3333333333333333, \"#9c179e\"], [0.4444444444444444, \"#bd3786\"], [0.5555555555555556, \"#d8576b\"], [0.6666666666666666, \"#ed7953\"], [0.7777777777777778, \"#fb9f3a\"], [0.8888888888888888, \"#fdca26\"], [1.0, \"#f0f921\"]], \"type\": \"surface\"}], \"table\": [{\"cells\": {\"fill\": {\"color\": \"#EBF0F8\"}, \"line\": {\"color\": \"white\"}}, \"header\": {\"fill\": {\"color\": \"#C8D4E3\"}, \"line\": {\"color\": \"white\"}}, \"type\": \"table\"}]}, \"layout\": {\"annotationdefaults\": {\"arrowcolor\": \"#2a3f5f\", \"arrowhead\": 0, \"arrowwidth\": 1}, \"coloraxis\": {\"colorbar\": {\"outlinewidth\": 0, \"ticks\": \"\"}}, \"colorscale\": {\"diverging\": [[0, \"#8e0152\"], [0.1, \"#c51b7d\"], [0.2, \"#de77ae\"], [0.3, \"#f1b6da\"], [0.4, \"#fde0ef\"], [0.5, \"#f7f7f7\"], [0.6, \"#e6f5d0\"], [0.7, \"#b8e186\"], [0.8, \"#7fbc41\"], [0.9, \"#4d9221\"], [1, \"#276419\"]], \"sequential\": [[0.0, \"#0d0887\"], [0.1111111111111111, \"#46039f\"], [0.2222222222222222, \"#7201a8\"], [0.3333333333333333, \"#9c179e\"], [0.4444444444444444, \"#bd3786\"], [0.5555555555555556, \"#d8576b\"], [0.6666666666666666, \"#ed7953\"], [0.7777777777777778, \"#fb9f3a\"], [0.8888888888888888, \"#fdca26\"], [1.0, \"#f0f921\"]], \"sequentialminus\": [[0.0, \"#0d0887\"], [0.1111111111111111, \"#46039f\"], [0.2222222222222222, \"#7201a8\"], [0.3333333333333333, \"#9c179e\"], [0.4444444444444444, \"#bd3786\"], [0.5555555555555556, \"#d8576b\"], [0.6666666666666666, \"#ed7953\"], [0.7777777777777778, \"#fb9f3a\"], [0.8888888888888888, \"#fdca26\"], [1.0, \"#f0f921\"]]}, \"colorway\": [\"#636efa\", \"#EF553B\", \"#00cc96\", \"#ab63fa\", \"#FFA15A\", \"#19d3f3\", \"#FF6692\", \"#B6E880\", \"#FF97FF\", \"#FECB52\"], \"font\": {\"color\": \"#2a3f5f\"}, \"geo\": {\"bgcolor\": \"white\", \"lakecolor\": \"white\", \"landcolor\": \"#E5ECF6\", \"showlakes\": true, \"showland\": true, \"subunitcolor\": \"white\"}, \"hoverlabel\": {\"align\": \"left\"}, \"hovermode\": \"closest\", \"mapbox\": {\"style\": \"light\"}, \"paper_bgcolor\": \"white\", \"plot_bgcolor\": \"#E5ECF6\", \"polar\": {\"angularaxis\": {\"gridcolor\": \"white\", \"linecolor\": \"white\", \"ticks\": \"\"}, \"bgcolor\": \"#E5ECF6\", \"radialaxis\": {\"gridcolor\": \"white\", \"linecolor\": \"white\", \"ticks\": \"\"}}, \"scene\": {\"xaxis\": {\"backgroundcolor\": \"#E5ECF6\", \"gridcolor\": \"white\", \"gridwidth\": 2, \"linecolor\": \"white\", \"showbackground\": true, \"ticks\": \"\", \"zerolinecolor\": \"white\"}, \"yaxis\": {\"backgroundcolor\": \"#E5ECF6\", \"gridcolor\": \"white\", \"gridwidth\": 2, \"linecolor\": \"white\", \"showbackground\": true, \"ticks\": \"\", \"zerolinecolor\": \"white\"}, \"zaxis\": {\"backgroundcolor\": \"#E5ECF6\", \"gridcolor\": \"white\", \"gridwidth\": 2, \"linecolor\": \"white\", \"showbackground\": true, \"ticks\": \"\", \"zerolinecolor\": \"white\"}}, \"shapedefaults\": {\"line\": {\"color\": \"#2a3f5f\"}}, \"ternary\": {\"aaxis\": {\"gridcolor\": \"white\", \"linecolor\": \"white\", \"ticks\": \"\"}, \"baxis\": {\"gridcolor\": \"white\", \"linecolor\": \"white\", \"ticks\": \"\"}, \"bgcolor\": \"#E5ECF6\", \"caxis\": {\"gridcolor\": \"white\", \"linecolor\": \"white\", \"ticks\": \"\"}}, \"title\": {\"x\": 0.05}, \"xaxis\": {\"automargin\": true, \"gridcolor\": \"white\", \"linecolor\": \"white\", \"ticks\": \"\", \"title\": {\"standoff\": 15}, \"zerolinecolor\": \"white\", \"zerolinewidth\": 2}, \"yaxis\": {\"automargin\": true, \"gridcolor\": \"white\", \"linecolor\": \"white\", \"ticks\": \"\", \"title\": {\"standoff\": 15}, \"zerolinecolor\": \"white\", \"zerolinewidth\": 2}}}, \"title\": {\"text\": \"\\u015aredni dzienny przyrost na 1 000 000 mieszka\\u0144c\\u00f3w w okresie od 2020-03-18 do 2020-03-25\"}},\n",
              "                        {\"responsive\": true}\n",
              "                    ).then(function(){\n",
              "                            \n",
              "var gd = document.getElementById('2c048b23-3521-45b0-811e-bcae55f55aef');\n",
              "var x = new MutationObserver(function (mutations, observer) {{\n",
              "        var display = window.getComputedStyle(gd).display;\n",
              "        if (!display || display === 'none') {{\n",
              "            console.log([gd, 'removed!']);\n",
              "            Plotly.purge(gd);\n",
              "            observer.disconnect();\n",
              "        }}\n",
              "}});\n",
              "\n",
              "// Listen for the removal of the full notebook cells\n",
              "var notebookContainer = gd.closest('#notebook-container');\n",
              "if (notebookContainer) {{\n",
              "    x.observe(notebookContainer, {childList: true});\n",
              "}}\n",
              "\n",
              "// Listen for the clearing of the current output cell\n",
              "var outputEl = gd.closest('.output');\n",
              "if (outputEl) {{\n",
              "    x.observe(outputEl, {childList: true});\n",
              "}}\n",
              "\n",
              "                        })\n",
              "                };\n",
              "                \n",
              "            </script>\n",
              "        </div>\n",
              "</body>\n",
              "</html>"
            ]
          },
          "metadata": {
            "tags": []
          }
        },
        {
          "output_type": "execute_result",
          "data": {
            "text/html": [
              "<div>\n",
              "<style scoped>\n",
              "    .dataframe tbody tr th:only-of-type {\n",
              "        vertical-align: middle;\n",
              "    }\n",
              "\n",
              "    .dataframe tbody tr th {\n",
              "        vertical-align: top;\n",
              "    }\n",
              "\n",
              "    .dataframe thead th {\n",
              "        text-align: right;\n",
              "    }\n",
              "</style>\n",
              "<table border=\"1\" class=\"dataframe\">\n",
              "  <thead>\n",
              "    <tr style=\"text-align: right;\">\n",
              "      <th></th>\n",
              "      <th>Country/Region</th>\n",
              "      <th>Population</th>\n",
              "      <th>3/25/20</th>\n",
              "      <th>3/18/20</th>\n",
              "      <th>diff%</th>\n",
              "    </tr>\n",
              "  </thead>\n",
              "  <tbody>\n",
              "    <tr>\n",
              "      <th>0</th>\n",
              "      <td>Luxembourg</td>\n",
              "      <td>625978</td>\n",
              "      <td>1333.0</td>\n",
              "      <td>203.0</td>\n",
              "      <td>257.882180</td>\n",
              "    </tr>\n",
              "    <tr>\n",
              "      <th>1</th>\n",
              "      <td>Iceland</td>\n",
              "      <td>341243</td>\n",
              "      <td>737.0</td>\n",
              "      <td>250.0</td>\n",
              "      <td>203.876500</td>\n",
              "    </tr>\n",
              "    <tr>\n",
              "      <th>2</th>\n",
              "      <td>Switzerland</td>\n",
              "      <td>8654622</td>\n",
              "      <td>10897.0</td>\n",
              "      <td>3028.0</td>\n",
              "      <td>129.889307</td>\n",
              "    </tr>\n",
              "    <tr>\n",
              "      <th>3</th>\n",
              "      <td>Spain</td>\n",
              "      <td>46754778</td>\n",
              "      <td>49515.0</td>\n",
              "      <td>13910.0</td>\n",
              "      <td>108.789493</td>\n",
              "    </tr>\n",
              "    <tr>\n",
              "      <th>4</th>\n",
              "      <td>Italy</td>\n",
              "      <td>60461826</td>\n",
              "      <td>74386.0</td>\n",
              "      <td>35713.0</td>\n",
              "      <td>91.375247</td>\n",
              "    </tr>\n",
              "    <tr>\n",
              "      <th>5</th>\n",
              "      <td>Austria</td>\n",
              "      <td>9006398</td>\n",
              "      <td>5588.0</td>\n",
              "      <td>1646.0</td>\n",
              "      <td>62.526979</td>\n",
              "    </tr>\n",
              "    <tr>\n",
              "      <th>6</th>\n",
              "      <td>Germany</td>\n",
              "      <td>83783942</td>\n",
              "      <td>37323.0</td>\n",
              "      <td>12327.0</td>\n",
              "      <td>42.619827</td>\n",
              "    </tr>\n",
              "    <tr>\n",
              "      <th>7</th>\n",
              "      <td>Belgium</td>\n",
              "      <td>11589623</td>\n",
              "      <td>4937.0</td>\n",
              "      <td>1486.0</td>\n",
              "      <td>42.538053</td>\n",
              "    </tr>\n",
              "    <tr>\n",
              "      <th>8</th>\n",
              "      <td>Norway</td>\n",
              "      <td>5421241</td>\n",
              "      <td>3084.0</td>\n",
              "      <td>1550.0</td>\n",
              "      <td>40.423006</td>\n",
              "    </tr>\n",
              "    <tr>\n",
              "      <th>9</th>\n",
              "      <td>Ireland</td>\n",
              "      <td>4937786</td>\n",
              "      <td>1564.0</td>\n",
              "      <td>292.0</td>\n",
              "      <td>36.800762</td>\n",
              "    </tr>\n",
              "  </tbody>\n",
              "</table>\n",
              "</div>"
            ],
            "text/plain": [
              "  Country/Region  Population  3/25/20  3/18/20       diff%\n",
              "0     Luxembourg      625978   1333.0    203.0  257.882180\n",
              "1        Iceland      341243    737.0    250.0  203.876500\n",
              "2    Switzerland     8654622  10897.0   3028.0  129.889307\n",
              "3          Spain    46754778  49515.0  13910.0  108.789493\n",
              "4          Italy    60461826  74386.0  35713.0   91.375247\n",
              "5        Austria     9006398   5588.0   1646.0   62.526979\n",
              "6        Germany    83783942  37323.0  12327.0   42.619827\n",
              "7        Belgium    11589623   4937.0   1486.0   42.538053\n",
              "8         Norway     5421241   3084.0   1550.0   40.423006\n",
              "9        Ireland     4937786   1564.0    292.0   36.800762"
            ]
          },
          "metadata": {
            "tags": []
          },
          "execution_count": 57
        }
      ]
    }
  ]
}