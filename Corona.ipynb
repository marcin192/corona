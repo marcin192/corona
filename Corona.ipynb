{
  "nbformat": 4,
  "nbformat_minor": 0,
  "metadata": {
    "colab": {
      "name": "Untitled3.ipynb",
      "provenance": [],
      "collapsed_sections": [],
      "authorship_tag": "ABX9TyOcl1fL8zl53sTgtCJ8X+lK",
      "include_colab_link": true
    },
    "kernelspec": {
      "name": "python3",
      "display_name": "Python 3"
    }
  },
  "cells": [
    {
      "cell_type": "markdown",
      "metadata": {
        "id": "view-in-github",
        "colab_type": "text"
      },
      "source": [
        "<a href=\"https://colab.research.google.com/github/marcin192/corona/blob/master/Corona.ipynb\" target=\"_parent\"><img src=\"https://colab.research.google.com/assets/colab-badge.svg\" alt=\"Open In Colab\"/></a>"
      ]
    },
    {
      "cell_type": "code",
      "metadata": {
        "id": "5MBxRQN9tVhY",
        "colab_type": "code",
        "colab": {}
      },
      "source": [
        "import numpy as np\n",
        "import pandas as pd\n",
        "import datetime\n",
        "import matplotlib.pyplot as plt\n",
        "from pandas.plotting import register_matplotlib_converters\n",
        "register_matplotlib_converters()\n",
        "#%matplotlib inline\n",
        "import plotly.express as px\n",
        "import plotly.graph_objects as go\n",
        "from plotly.subplots import make_subplots\n",
        "plt.rcParams['figure.figsize'] = [15, 5]\n",
        "from IPython import display\n",
        "from ipywidgets import interact, widgets\n",
        "pd.set_option('mode.chained_assignment', None)"
      ],
      "execution_count": 0,
      "outputs": []
    },
    {
      "cell_type": "code",
      "metadata": {
        "id": "L-bmFnnntXlS",
        "colab_type": "code",
        "colab": {}
      },
      "source": [
        "def download(option):\n",
        "  if option==\"Cases\":\n",
        "    url = f\"https://raw.githubusercontent.com/CSSEGISandData/COVID-19/master/csse_covid_19_data/csse_covid_19_time_series/time_series_covid19_confirmed_global.csv\"\n",
        "  elif option==\"Population\":\n",
        "    url=f\"https://raw.githubusercontent.com/marcin192/pop/master/popek.csv\"\n",
        "  dfC = pd.read_csv(url, error_bad_lines=False)\n",
        "  return dfC"
      ],
      "execution_count": 0,
      "outputs": []
    },
    {
      "cell_type": "code",
      "metadata": {
        "id": "Yd0Ll-_NtsVT",
        "colab_type": "code",
        "colab": {}
      },
      "source": [
        "def differentiate(datex,dt):\n",
        "  datexC=datex.strftime('%m/%d/%y').lstrip(\"0\").replace(\" 0\", \" \").replace(\" 0/\",\" /\")\n",
        "  dateo=datex+datetime.timedelta(days=-dt)\n",
        "  dateoC=dateo.strftime('%m/%d/%y').lstrip(\"0\").replace(\" 0\", \" \").replace(\" 0/\",\" /\")\n",
        "  dfC=download(\"Cases\")\n",
        "  dfM=dfC[[\"Country/Region\",datexC,dateoC]]\n",
        "  dfM[[\"diff\"]]=-dfM[[dateoC]]\n",
        "  dfM[[\"diff\"]]=0\n",
        "  it=0\n",
        "  l=dfM.shape[0]\n",
        "  for i in range(0,l):\n",
        "    dfM[\"diff\"].iloc[it:it+1]=(dfM[datexC].iloc[it:it+1]-dfM[dateoC].iloc[it:it+1])/dt\n",
        "    it=it+1\n",
        "  \n",
        "  return dfM.sort_values(by=\"diff\",ascending=False)\n"
      ],
      "execution_count": 0,
      "outputs": []
    },
    {
      "cell_type": "code",
      "metadata": {
        "id": "k8lqsbnb5o3N",
        "colab_type": "code",
        "colab": {}
      },
      "source": [
        "def plotd(date,dt,ex):\n",
        "  \"\"\"formated_gdf = dfD.groupby([\"Country/Region\"]).max()\"\"\"\n",
        "  dfg=differentiate(date,dt)\n",
        "  dfg=dfg.groupby([\"Country/Region\"]).sum()\n",
        "  formated_gdf = dfg.reset_index()\n",
        "  formated_gdf['size'] = formated_gdf[[\"diff\"]].pow(ex)\n",
        "\n",
        "\n",
        "\n",
        "  fig = px.choropleth(formated_gdf, locations=\"Country/Region\", locationmode='country names', \n",
        "                     color=\"diff\", hover_name=\"Country/Region\", \n",
        "                     range_color= [0, max(formated_gdf[\"diff\"].pow(ex))+2], \n",
        "                     projection=\"natural earth\",\n",
        "                     labels={\"diff\":\"Średni dzienny przyrost\"},\n",
        "                     title=f\"Średni dzienny przyrost w okresie od {date+datetime.timedelta(days=-dt)} do {date}\")\n",
        "\n",
        "\n",
        "\n",
        "\n",
        "\n",
        "  fig.show()\n",
        "  return formated_gdf.sort_values(by=\"diff\",ascending=False)"
      ],
      "execution_count": 0,
      "outputs": []
    },
    {
      "cell_type": "code",
      "metadata": {
        "id": "aMhFUdOJRJnl",
        "colab_type": "code",
        "colab": {}
      },
      "source": [
        "def population(option):\n",
        "  pop=download(\"Population\")\n",
        "  pop=pop.sort_values(by=\"Country\")\n",
        "  pop=pop.reset_index()\n",
        "  pop=pop.drop([\"index\"],axis=1)\n",
        "  if(option==1):\n",
        "    pop=pop.drop([\"Country\"],axis=1)\n",
        "    return pop\n",
        "  else:\n",
        "    return pop"
      ],
      "execution_count": 0,
      "outputs": []
    },
    {
      "cell_type": "code",
      "metadata": {
        "id": "iYG8W_DnRKiP",
        "colab_type": "code",
        "colab": {}
      },
      "source": [
        "def confirmparse():\n",
        "  dfC=download(\"Cases\")\n",
        "  dfC=dfC.groupby(by=\"Country/Region\").sum().reset_index()\n",
        "  dfC=dfC.drop(dfC[dfC[\"Country/Region\"]==\"Kosovo\"].index,axis=0)\n",
        "  dfC=dfC.drop(dfC[dfC[\"Country/Region\"]==\"Diamond Princess\"].index,axis=0)\n",
        "  dfC=dfC.drop(dfC[dfC[\"Country/Region\"]==\"West Bank and Gaza\"].index,axis=0)\n",
        "  dfC=dfC.reset_index()\n",
        "  dfC=dfC.drop([\"index\"],axis=1)\n",
        "  index1=dfC[dfC[\"Country/Region\"]==\"Congo (Brazzaville)\"].index\n",
        "  index2=dfC[dfC[\"Country/Region\"]==\"Congo (Kinshasa)\"].index\n",
        "  dfC.loc[index1[0]] += dfC.loc[index2[0]]\n",
        "  dfC=dfC.drop(dfC[dfC[\"Country/Region\"]==\"Congo (Kinshasa)\"].index,axis=0)\n",
        "  dfC.at[index1[0],\"Country/Region\"]=\"Congo\"\n",
        "  dfC=dfC.drop([\"Lat\",\"Long\"],axis=1)\n",
        "  dfC=dfC.reset_index()\n",
        "  dfC=dfC.drop([\"index\"],axis=1)\n",
        "  return dfC"
      ],
      "execution_count": 0,
      "outputs": []
    },
    {
      "cell_type": "code",
      "metadata": {
        "id": "TcLHui7vSyaI",
        "colab_type": "code",
        "colab": {}
      },
      "source": [
        "def differentiate_population(datex,dt):\n",
        "  datexC=datex.strftime('%m/%d/%y').lstrip(\"0\").replace(\" 0\", \" \").replace(\" 0/\",\" /\")\n",
        "  dateo=datex+datetime.timedelta(days=-dt)\n",
        "  dateoC=dateo.strftime('%m/%d/%y').lstrip(\"0\").replace(\" 0\", \" \").replace(\" 0/\",\" /\")\n",
        "  c=confirmparse()\n",
        "  p=population(1)\n",
        "  j=pd.concat([p,c],axis=1)\n",
        "  m=j[[\"Population\",\"Country/Region\",datexC,dateoC]]\n",
        "  m[[\"diff%\"]]=m[[dateoC]]\n",
        "  m[[\"diff%\"]]=0\n",
        "  it=0\n",
        "  l=m.shape[0]\n",
        "  for i in range(0,l):\n",
        "    m[\"diff%\"].iloc[it:it+1]=(m[datexC].iloc[it:it+1]-m[dateoC].iloc[it:it+1])/dt/(m[\"Population\"].iloc[it:it+1])*1000000\n",
        "    it=it+1\n",
        "  \n",
        "  return m.sort_values(by=\"diff%\",ascending=False)"
      ],
      "execution_count": 0,
      "outputs": []
    },
    {
      "cell_type": "code",
      "metadata": {
        "id": "_E0yCIkhVk0U",
        "colab_type": "code",
        "colab": {
          "base_uri": "https://localhost:8080/",
          "height": 35
        },
        "outputId": "3c641764-85ef-4c9b-aabe-5e2dde7ad6cc"
      },
      "source": [
        "def plotdp(date,dt,ex):\n",
        "  \"\"\"formated_gdf = dfD.groupby([\"Country/Region\"]).max()\"\"\"\n",
        "  dfg=differentiate_population(date,dt)\n",
        "  dfg=dfg.groupby([\"Country/Region\"]).sum()\n",
        "  indexNames=dfg[dfg[\"Population\"]<1000000].index\n",
        "  dfg.drop(indexNames , inplace=True)\n",
        "  formated_gdf = dfg.reset_index()\n",
        "  formated_gdf['size'] = formated_gdf[[\"diff%\"]].pow(ex)\n",
        "\n",
        "\n",
        "\n",
        "  fig = px.choropleth(formated_gdf, locations=\"Country/Region\", locationmode='country names', \n",
        "                     color=\"diff%\", hover_name=\"Country/Region\", \n",
        "                     range_color= [0, max(formated_gdf[\"diff%\"].pow(ex))+2], \n",
        "                     projection=\"natural earth\",\n",
        "                     labels={\"diff\":\"Średni dzienny przyrost\"},\n",
        "                     title=f\"Średni dzienny przyrost na 1 000 000 mieszkańców w okresie od {date+datetime.timedelta(days=-dt)} do {date}\")\n",
        "\n",
        "\n",
        "\n",
        "\n",
        "\n",
        "  fig.show()\n",
        "  return formated_gdf.sort_values(by=\"diff%\",ascending=False)"
      ],
      "execution_count": 15,
      "outputs": [
        {
          "output_type": "stream",
          "text": [
            "ERROR! Session/line number was not unique in database. History logging moved to new session 60\n"
          ],
          "name": "stdout"
        }
      ]
    },
    {
      "cell_type": "code",
      "metadata": {
        "id": "L657_JRWq7Dx",
        "colab_type": "code",
        "outputId": "3a7e6c75-1894-4719-acee-cee74298955d",
        "colab": {
          "base_uri": "https://localhost:8080/",
          "height": 949
        }
      },
      "source": [
        "plotd(datetime.date(2020,3,25),1,0.5)"
      ],
      "execution_count": 19,
      "outputs": [
        {
          "output_type": "display_data",
          "data": {
            "text/html": [
              "<html>\n",
              "<head><meta charset=\"utf-8\" /></head>\n",
              "<body>\n",
              "    <div>\n",
              "            <script src=\"https://cdnjs.cloudflare.com/ajax/libs/mathjax/2.7.5/MathJax.js?config=TeX-AMS-MML_SVG\"></script><script type=\"text/javascript\">if (window.MathJax) {MathJax.Hub.Config({SVG: {font: \"STIX-Web\"}});}</script>\n",
              "                <script type=\"text/javascript\">window.PlotlyConfig = {MathJaxConfig: 'local'};</script>\n",
              "        <script src=\"https://cdn.plot.ly/plotly-latest.min.js\"></script>    \n",
              "            <div id=\"7d96f4a0-9cd9-47a2-a15b-7c17b879cbb6\" class=\"plotly-graph-div\" style=\"height:525px; width:100%;\"></div>\n",
              "            <script type=\"text/javascript\">\n",
              "                \n",
              "                    window.PLOTLYENV=window.PLOTLYENV || {};\n",
              "                    \n",
              "                if (document.getElementById(\"7d96f4a0-9cd9-47a2-a15b-7c17b879cbb6\")) {\n",
              "                    Plotly.newPlot(\n",
              "                        '7d96f4a0-9cd9-47a2-a15b-7c17b879cbb6',\n",
              "                        [{\"coloraxis\": \"coloraxis\", \"geo\": \"geo\", \"hoverlabel\": {\"namelength\": 0}, \"hovertemplate\": \"<b>%{hovertext}</b><br><br>Country/Region=%{location}<br>\\u015aredni dzienny przyrost=%{z}\", \"hovertext\": [\"Afghanistan\", \"Albania\", \"Algeria\", \"Andorra\", \"Angola\", \"Antigua and Barbuda\", \"Argentina\", \"Armenia\", \"Australia\", \"Austria\", \"Azerbaijan\", \"Bahamas\", \"Bahrain\", \"Bangladesh\", \"Barbados\", \"Belarus\", \"Belgium\", \"Belize\", \"Benin\", \"Bhutan\", \"Bolivia\", \"Bosnia and Herzegovina\", \"Brazil\", \"Brunei\", \"Bulgaria\", \"Burkina Faso\", \"Cabo Verde\", \"Cambodia\", \"Cameroon\", \"Canada\", \"Central African Republic\", \"Chad\", \"Chile\", \"China\", \"Colombia\", \"Congo (Brazzaville)\", \"Congo (Kinshasa)\", \"Costa Rica\", \"Cote d'Ivoire\", \"Croatia\", \"Cuba\", \"Cyprus\", \"Czechia\", \"Denmark\", \"Diamond Princess\", \"Djibouti\", \"Dominica\", \"Dominican Republic\", \"Ecuador\", \"Egypt\", \"El Salvador\", \"Equatorial Guinea\", \"Eritrea\", \"Estonia\", \"Eswatini\", \"Ethiopia\", \"Fiji\", \"Finland\", \"France\", \"Gabon\", \"Gambia\", \"Georgia\", \"Germany\", \"Ghana\", \"Greece\", \"Grenada\", \"Guatemala\", \"Guinea\", \"Guinea-Bissau\", \"Guyana\", \"Haiti\", \"Holy See\", \"Honduras\", \"Hungary\", \"Iceland\", \"India\", \"Indonesia\", \"Iran\", \"Iraq\", \"Ireland\", \"Israel\", \"Italy\", \"Jamaica\", \"Japan\", \"Jordan\", \"Kazakhstan\", \"Kenya\", \"Korea, South\", \"Kosovo\", \"Kuwait\", \"Kyrgyzstan\", \"Laos\", \"Latvia\", \"Lebanon\", \"Liberia\", \"Libya\", \"Liechtenstein\", \"Lithuania\", \"Luxembourg\", \"Madagascar\", \"Malaysia\", \"Maldives\", \"Mali\", \"Malta\", \"Mauritania\", \"Mauritius\", \"Mexico\", \"Moldova\", \"Monaco\", \"Mongolia\", \"Montenegro\", \"Morocco\", \"Mozambique\", \"Namibia\", \"Nepal\", \"Netherlands\", \"New Zealand\", \"Nicaragua\", \"Niger\", \"Nigeria\", \"North Macedonia\", \"Norway\", \"Oman\", \"Pakistan\", \"Panama\", \"Papua New Guinea\", \"Paraguay\", \"Peru\", \"Philippines\", \"Poland\", \"Portugal\", \"Qatar\", \"Romania\", \"Russia\", \"Rwanda\", \"Saint Kitts and Nevis\", \"Saint Lucia\", \"Saint Vincent and the Grenadines\", \"San Marino\", \"Saudi Arabia\", \"Senegal\", \"Serbia\", \"Seychelles\", \"Singapore\", \"Slovakia\", \"Slovenia\", \"Somalia\", \"South Africa\", \"Spain\", \"Sri Lanka\", \"Sudan\", \"Suriname\", \"Sweden\", \"Switzerland\", \"Syria\", \"Taiwan*\", \"Tanzania\", \"Thailand\", \"Timor-Leste\", \"Togo\", \"Trinidad and Tobago\", \"Tunisia\", \"Turkey\", \"US\", \"Uganda\", \"Ukraine\", \"United Arab Emirates\", \"United Kingdom\", \"Uruguay\", \"Uzbekistan\", \"Venezuela\", \"Vietnam\", \"West Bank and Gaza\", \"Zambia\", \"Zimbabwe\"], \"locationmode\": \"country names\", \"locations\": [\"Afghanistan\", \"Albania\", \"Algeria\", \"Andorra\", \"Angola\", \"Antigua and Barbuda\", \"Argentina\", \"Armenia\", \"Australia\", \"Austria\", \"Azerbaijan\", \"Bahamas\", \"Bahrain\", \"Bangladesh\", \"Barbados\", \"Belarus\", \"Belgium\", \"Belize\", \"Benin\", \"Bhutan\", \"Bolivia\", \"Bosnia and Herzegovina\", \"Brazil\", \"Brunei\", \"Bulgaria\", \"Burkina Faso\", \"Cabo Verde\", \"Cambodia\", \"Cameroon\", \"Canada\", \"Central African Republic\", \"Chad\", \"Chile\", \"China\", \"Colombia\", \"Congo (Brazzaville)\", \"Congo (Kinshasa)\", \"Costa Rica\", \"Cote d'Ivoire\", \"Croatia\", \"Cuba\", \"Cyprus\", \"Czechia\", \"Denmark\", \"Diamond Princess\", \"Djibouti\", \"Dominica\", \"Dominican Republic\", \"Ecuador\", \"Egypt\", \"El Salvador\", \"Equatorial Guinea\", \"Eritrea\", \"Estonia\", \"Eswatini\", \"Ethiopia\", \"Fiji\", \"Finland\", \"France\", \"Gabon\", \"Gambia\", \"Georgia\", \"Germany\", \"Ghana\", \"Greece\", \"Grenada\", \"Guatemala\", \"Guinea\", \"Guinea-Bissau\", \"Guyana\", \"Haiti\", \"Holy See\", \"Honduras\", \"Hungary\", \"Iceland\", \"India\", \"Indonesia\", \"Iran\", \"Iraq\", \"Ireland\", \"Israel\", \"Italy\", \"Jamaica\", \"Japan\", \"Jordan\", \"Kazakhstan\", \"Kenya\", \"Korea, South\", \"Kosovo\", \"Kuwait\", \"Kyrgyzstan\", \"Laos\", \"Latvia\", \"Lebanon\", \"Liberia\", \"Libya\", \"Liechtenstein\", \"Lithuania\", \"Luxembourg\", \"Madagascar\", \"Malaysia\", \"Maldives\", \"Mali\", \"Malta\", \"Mauritania\", \"Mauritius\", \"Mexico\", \"Moldova\", \"Monaco\", \"Mongolia\", \"Montenegro\", \"Morocco\", \"Mozambique\", \"Namibia\", \"Nepal\", \"Netherlands\", \"New Zealand\", \"Nicaragua\", \"Niger\", \"Nigeria\", \"North Macedonia\", \"Norway\", \"Oman\", \"Pakistan\", \"Panama\", \"Papua New Guinea\", \"Paraguay\", \"Peru\", \"Philippines\", \"Poland\", \"Portugal\", \"Qatar\", \"Romania\", \"Russia\", \"Rwanda\", \"Saint Kitts and Nevis\", \"Saint Lucia\", \"Saint Vincent and the Grenadines\", \"San Marino\", \"Saudi Arabia\", \"Senegal\", \"Serbia\", \"Seychelles\", \"Singapore\", \"Slovakia\", \"Slovenia\", \"Somalia\", \"South Africa\", \"Spain\", \"Sri Lanka\", \"Sudan\", \"Suriname\", \"Sweden\", \"Switzerland\", \"Syria\", \"Taiwan*\", \"Tanzania\", \"Thailand\", \"Timor-Leste\", \"Togo\", \"Trinidad and Tobago\", \"Tunisia\", \"Turkey\", \"US\", \"Uganda\", \"Ukraine\", \"United Arab Emirates\", \"United Kingdom\", \"Uruguay\", \"Uzbekistan\", \"Venezuela\", \"Vietnam\", \"West Bank and Gaza\", \"Zambia\", \"Zimbabwe\"], \"name\": \"\", \"type\": \"choropleth\", \"z\": [10.0, 23.0, 38.0, 24.0, 0.0, 0.0, 0.0, 16.0, 320.0, 305.0, 6.0, 0.0, 27.0, 0.0, 0.0, 5.0, 668.0, 1.0, 0.0, 0.0, 3.0, 10.0, 307.0, 5.0, 24.0, 32.0, 1.0, 5.0, 9.0, 461.0, 0.0, 0.0, 220.0, 70.0, 92.0, 0.0, 3.0, 24.0, 7.0, 60.0, 9.0, 8.0, 260.0, 144.0, 0.0, 8.0, 5.0, 80.0, 91.0, 54.0, 4.0, 0.0, 3.0, 35.0, 0.0, 0.0, 1.0, 88.0, 2978.0, 0.0, 0.0, 5.0, 4337.0, 40.0, 78.0, 0.0, 3.0, 0.0, 2.0, 0.0, 1.0, 0.0, 6.0, 39.0, 89.0, 121.0, 104.0, 2206.0, 30.0, 235.0, 1131.0, 5210.0, 5.0, 114.0, 18.0, 9.0, 3.0, 100.0, 0.0, 4.0, 2.0, 1.0, 24.0, 15.0, 0.0, 0.0, 0.0, 65.0, 234.0, 2.0, 172.0, 0.0, 2.0, 19.0, 0.0, 6.0, 38.0, 24.0, 8.0, 0.0, 5.0, 55.0, 2.0, 0.0, 1.0, 858.0, 50.0, 0.0, 4.0, 7.0, 29.0, 221.0, 15.0, 91.0, 98.0, 0.0, 10.0, 64.0, 84.0, 150.0, 633.0, 11.0, 112.0, 163.0, 1.0, 2.0, 0.0, 0.0, 21.0, 133.0, 13.0, 81.0, 0.0, 73.0, 12.0, 48.0, 0.0, 155.0, 9630.0, 0.0, 0.0, 1.0, 240.0, 1020.0, 4.0, 20.0, 0.0, 107.0, 0.0, 3.0, 3.0, 59.0, 561.0, 12038.0, 5.0, 48.0, 85.0, 1476.0, 27.0, 10.0, 7.0, 7.0, 0.0, 9.0, 0.0]}],\n",
              "                        {\"coloraxis\": {\"cmax\": 111.71781988355401, \"cmin\": 0, \"colorbar\": {\"title\": {\"text\": \"\\u015aredni dzienny przyrost\"}}, \"colorscale\": [[0.0, \"#0d0887\"], [0.1111111111111111, \"#46039f\"], [0.2222222222222222, \"#7201a8\"], [0.3333333333333333, \"#9c179e\"], [0.4444444444444444, \"#bd3786\"], [0.5555555555555556, \"#d8576b\"], [0.6666666666666666, \"#ed7953\"], [0.7777777777777778, \"#fb9f3a\"], [0.8888888888888888, \"#fdca26\"], [1.0, \"#f0f921\"]]}, \"geo\": {\"center\": {}, \"domain\": {\"x\": [0.0, 1.0], \"y\": [0.0, 1.0]}, \"projection\": {\"type\": \"natural earth\"}}, \"legend\": {\"tracegroupgap\": 0}, \"template\": {\"data\": {\"bar\": [{\"error_x\": {\"color\": \"#2a3f5f\"}, \"error_y\": {\"color\": \"#2a3f5f\"}, \"marker\": {\"line\": {\"color\": \"#E5ECF6\", \"width\": 0.5}}, \"type\": \"bar\"}], \"barpolar\": [{\"marker\": {\"line\": {\"color\": \"#E5ECF6\", \"width\": 0.5}}, \"type\": \"barpolar\"}], \"carpet\": [{\"aaxis\": {\"endlinecolor\": \"#2a3f5f\", \"gridcolor\": \"white\", \"linecolor\": \"white\", \"minorgridcolor\": \"white\", \"startlinecolor\": \"#2a3f5f\"}, \"baxis\": {\"endlinecolor\": \"#2a3f5f\", \"gridcolor\": \"white\", \"linecolor\": \"white\", \"minorgridcolor\": \"white\", \"startlinecolor\": \"#2a3f5f\"}, \"type\": \"carpet\"}], \"choropleth\": [{\"colorbar\": {\"outlinewidth\": 0, \"ticks\": \"\"}, \"type\": \"choropleth\"}], \"contour\": [{\"colorbar\": {\"outlinewidth\": 0, \"ticks\": \"\"}, \"colorscale\": [[0.0, \"#0d0887\"], [0.1111111111111111, \"#46039f\"], [0.2222222222222222, \"#7201a8\"], [0.3333333333333333, \"#9c179e\"], [0.4444444444444444, \"#bd3786\"], [0.5555555555555556, \"#d8576b\"], [0.6666666666666666, \"#ed7953\"], [0.7777777777777778, \"#fb9f3a\"], [0.8888888888888888, \"#fdca26\"], [1.0, \"#f0f921\"]], \"type\": \"contour\"}], \"contourcarpet\": [{\"colorbar\": {\"outlinewidth\": 0, \"ticks\": \"\"}, \"type\": \"contourcarpet\"}], \"heatmap\": [{\"colorbar\": {\"outlinewidth\": 0, \"ticks\": \"\"}, \"colorscale\": [[0.0, \"#0d0887\"], [0.1111111111111111, \"#46039f\"], [0.2222222222222222, \"#7201a8\"], [0.3333333333333333, \"#9c179e\"], [0.4444444444444444, \"#bd3786\"], [0.5555555555555556, \"#d8576b\"], [0.6666666666666666, \"#ed7953\"], [0.7777777777777778, \"#fb9f3a\"], [0.8888888888888888, \"#fdca26\"], [1.0, \"#f0f921\"]], \"type\": \"heatmap\"}], \"heatmapgl\": [{\"colorbar\": {\"outlinewidth\": 0, \"ticks\": \"\"}, \"colorscale\": [[0.0, \"#0d0887\"], [0.1111111111111111, \"#46039f\"], [0.2222222222222222, \"#7201a8\"], [0.3333333333333333, \"#9c179e\"], [0.4444444444444444, \"#bd3786\"], [0.5555555555555556, \"#d8576b\"], [0.6666666666666666, \"#ed7953\"], [0.7777777777777778, \"#fb9f3a\"], [0.8888888888888888, \"#fdca26\"], [1.0, \"#f0f921\"]], \"type\": \"heatmapgl\"}], \"histogram\": [{\"marker\": {\"colorbar\": {\"outlinewidth\": 0, \"ticks\": \"\"}}, \"type\": \"histogram\"}], \"histogram2d\": [{\"colorbar\": {\"outlinewidth\": 0, \"ticks\": \"\"}, \"colorscale\": [[0.0, \"#0d0887\"], [0.1111111111111111, \"#46039f\"], [0.2222222222222222, \"#7201a8\"], [0.3333333333333333, \"#9c179e\"], [0.4444444444444444, \"#bd3786\"], [0.5555555555555556, \"#d8576b\"], [0.6666666666666666, \"#ed7953\"], [0.7777777777777778, \"#fb9f3a\"], [0.8888888888888888, \"#fdca26\"], [1.0, \"#f0f921\"]], \"type\": \"histogram2d\"}], \"histogram2dcontour\": [{\"colorbar\": {\"outlinewidth\": 0, \"ticks\": \"\"}, \"colorscale\": [[0.0, \"#0d0887\"], [0.1111111111111111, \"#46039f\"], [0.2222222222222222, \"#7201a8\"], [0.3333333333333333, \"#9c179e\"], [0.4444444444444444, \"#bd3786\"], [0.5555555555555556, \"#d8576b\"], [0.6666666666666666, \"#ed7953\"], [0.7777777777777778, \"#fb9f3a\"], [0.8888888888888888, \"#fdca26\"], [1.0, \"#f0f921\"]], \"type\": \"histogram2dcontour\"}], \"mesh3d\": [{\"colorbar\": {\"outlinewidth\": 0, \"ticks\": \"\"}, \"type\": \"mesh3d\"}], \"parcoords\": [{\"line\": {\"colorbar\": {\"outlinewidth\": 0, \"ticks\": \"\"}}, \"type\": \"parcoords\"}], \"pie\": [{\"automargin\": true, \"type\": \"pie\"}], \"scatter\": [{\"marker\": {\"colorbar\": {\"outlinewidth\": 0, \"ticks\": \"\"}}, \"type\": \"scatter\"}], \"scatter3d\": [{\"line\": {\"colorbar\": {\"outlinewidth\": 0, \"ticks\": \"\"}}, \"marker\": {\"colorbar\": {\"outlinewidth\": 0, \"ticks\": \"\"}}, \"type\": \"scatter3d\"}], \"scattercarpet\": [{\"marker\": {\"colorbar\": {\"outlinewidth\": 0, \"ticks\": \"\"}}, \"type\": \"scattercarpet\"}], \"scattergeo\": [{\"marker\": {\"colorbar\": {\"outlinewidth\": 0, \"ticks\": \"\"}}, \"type\": \"scattergeo\"}], \"scattergl\": [{\"marker\": {\"colorbar\": {\"outlinewidth\": 0, \"ticks\": \"\"}}, \"type\": \"scattergl\"}], \"scattermapbox\": [{\"marker\": {\"colorbar\": {\"outlinewidth\": 0, \"ticks\": \"\"}}, \"type\": \"scattermapbox\"}], \"scatterpolar\": [{\"marker\": {\"colorbar\": {\"outlinewidth\": 0, \"ticks\": \"\"}}, \"type\": \"scatterpolar\"}], \"scatterpolargl\": [{\"marker\": {\"colorbar\": {\"outlinewidth\": 0, \"ticks\": \"\"}}, \"type\": \"scatterpolargl\"}], \"scatterternary\": [{\"marker\": {\"colorbar\": {\"outlinewidth\": 0, \"ticks\": \"\"}}, \"type\": \"scatterternary\"}], \"surface\": [{\"colorbar\": {\"outlinewidth\": 0, \"ticks\": \"\"}, \"colorscale\": [[0.0, \"#0d0887\"], [0.1111111111111111, \"#46039f\"], [0.2222222222222222, \"#7201a8\"], [0.3333333333333333, \"#9c179e\"], [0.4444444444444444, \"#bd3786\"], [0.5555555555555556, \"#d8576b\"], [0.6666666666666666, \"#ed7953\"], [0.7777777777777778, \"#fb9f3a\"], [0.8888888888888888, \"#fdca26\"], [1.0, \"#f0f921\"]], \"type\": \"surface\"}], \"table\": [{\"cells\": {\"fill\": {\"color\": \"#EBF0F8\"}, \"line\": {\"color\": \"white\"}}, \"header\": {\"fill\": {\"color\": \"#C8D4E3\"}, \"line\": {\"color\": \"white\"}}, \"type\": \"table\"}]}, \"layout\": {\"annotationdefaults\": {\"arrowcolor\": \"#2a3f5f\", \"arrowhead\": 0, \"arrowwidth\": 1}, \"coloraxis\": {\"colorbar\": {\"outlinewidth\": 0, \"ticks\": \"\"}}, \"colorscale\": {\"diverging\": [[0, \"#8e0152\"], [0.1, \"#c51b7d\"], [0.2, \"#de77ae\"], [0.3, \"#f1b6da\"], [0.4, \"#fde0ef\"], [0.5, \"#f7f7f7\"], [0.6, \"#e6f5d0\"], [0.7, \"#b8e186\"], [0.8, \"#7fbc41\"], [0.9, \"#4d9221\"], [1, \"#276419\"]], \"sequential\": [[0.0, \"#0d0887\"], [0.1111111111111111, \"#46039f\"], [0.2222222222222222, \"#7201a8\"], [0.3333333333333333, \"#9c179e\"], [0.4444444444444444, \"#bd3786\"], [0.5555555555555556, \"#d8576b\"], [0.6666666666666666, \"#ed7953\"], [0.7777777777777778, \"#fb9f3a\"], [0.8888888888888888, \"#fdca26\"], [1.0, \"#f0f921\"]], \"sequentialminus\": [[0.0, \"#0d0887\"], [0.1111111111111111, \"#46039f\"], [0.2222222222222222, \"#7201a8\"], [0.3333333333333333, \"#9c179e\"], [0.4444444444444444, \"#bd3786\"], [0.5555555555555556, \"#d8576b\"], [0.6666666666666666, \"#ed7953\"], [0.7777777777777778, \"#fb9f3a\"], [0.8888888888888888, \"#fdca26\"], [1.0, \"#f0f921\"]]}, \"colorway\": [\"#636efa\", \"#EF553B\", \"#00cc96\", \"#ab63fa\", \"#FFA15A\", \"#19d3f3\", \"#FF6692\", \"#B6E880\", \"#FF97FF\", \"#FECB52\"], \"font\": {\"color\": \"#2a3f5f\"}, \"geo\": {\"bgcolor\": \"white\", \"lakecolor\": \"white\", \"landcolor\": \"#E5ECF6\", \"showlakes\": true, \"showland\": true, \"subunitcolor\": \"white\"}, \"hoverlabel\": {\"align\": \"left\"}, \"hovermode\": \"closest\", \"mapbox\": {\"style\": \"light\"}, \"paper_bgcolor\": \"white\", \"plot_bgcolor\": \"#E5ECF6\", \"polar\": {\"angularaxis\": {\"gridcolor\": \"white\", \"linecolor\": \"white\", \"ticks\": \"\"}, \"bgcolor\": \"#E5ECF6\", \"radialaxis\": {\"gridcolor\": \"white\", \"linecolor\": \"white\", \"ticks\": \"\"}}, \"scene\": {\"xaxis\": {\"backgroundcolor\": \"#E5ECF6\", \"gridcolor\": \"white\", \"gridwidth\": 2, \"linecolor\": \"white\", \"showbackground\": true, \"ticks\": \"\", \"zerolinecolor\": \"white\"}, \"yaxis\": {\"backgroundcolor\": \"#E5ECF6\", \"gridcolor\": \"white\", \"gridwidth\": 2, \"linecolor\": \"white\", \"showbackground\": true, \"ticks\": \"\", \"zerolinecolor\": \"white\"}, \"zaxis\": {\"backgroundcolor\": \"#E5ECF6\", \"gridcolor\": \"white\", \"gridwidth\": 2, \"linecolor\": \"white\", \"showbackground\": true, \"ticks\": \"\", \"zerolinecolor\": \"white\"}}, \"shapedefaults\": {\"line\": {\"color\": \"#2a3f5f\"}}, \"ternary\": {\"aaxis\": {\"gridcolor\": \"white\", \"linecolor\": \"white\", \"ticks\": \"\"}, \"baxis\": {\"gridcolor\": \"white\", \"linecolor\": \"white\", \"ticks\": \"\"}, \"bgcolor\": \"#E5ECF6\", \"caxis\": {\"gridcolor\": \"white\", \"linecolor\": \"white\", \"ticks\": \"\"}}, \"title\": {\"x\": 0.05}, \"xaxis\": {\"automargin\": true, \"gridcolor\": \"white\", \"linecolor\": \"white\", \"ticks\": \"\", \"title\": {\"standoff\": 15}, \"zerolinecolor\": \"white\", \"zerolinewidth\": 2}, \"yaxis\": {\"automargin\": true, \"gridcolor\": \"white\", \"linecolor\": \"white\", \"ticks\": \"\", \"title\": {\"standoff\": 15}, \"zerolinecolor\": \"white\", \"zerolinewidth\": 2}}}, \"title\": {\"text\": \"\\u015aredni dzienny przyrost w okresie od 2020-03-24 do 2020-03-25\"}},\n",
              "                        {\"responsive\": true}\n",
              "                    ).then(function(){\n",
              "                            \n",
              "var gd = document.getElementById('7d96f4a0-9cd9-47a2-a15b-7c17b879cbb6');\n",
              "var x = new MutationObserver(function (mutations, observer) {{\n",
              "        var display = window.getComputedStyle(gd).display;\n",
              "        if (!display || display === 'none') {{\n",
              "            console.log([gd, 'removed!']);\n",
              "            Plotly.purge(gd);\n",
              "            observer.disconnect();\n",
              "        }}\n",
              "}});\n",
              "\n",
              "// Listen for the removal of the full notebook cells\n",
              "var notebookContainer = gd.closest('#notebook-container');\n",
              "if (notebookContainer) {{\n",
              "    x.observe(notebookContainer, {childList: true});\n",
              "}}\n",
              "\n",
              "// Listen for the clearing of the current output cell\n",
              "var outputEl = gd.closest('.output');\n",
              "if (outputEl) {{\n",
              "    x.observe(outputEl, {childList: true});\n",
              "}}\n",
              "\n",
              "                        })\n",
              "                };\n",
              "                \n",
              "            </script>\n",
              "        </div>\n",
              "</body>\n",
              "</html>"
            ]
          },
          "metadata": {
            "tags": []
          }
        },
        {
          "output_type": "execute_result",
          "data": {
            "text/html": [
              "<div>\n",
              "<style scoped>\n",
              "    .dataframe tbody tr th:only-of-type {\n",
              "        vertical-align: middle;\n",
              "    }\n",
              "\n",
              "    .dataframe tbody tr th {\n",
              "        vertical-align: top;\n",
              "    }\n",
              "\n",
              "    .dataframe thead th {\n",
              "        text-align: right;\n",
              "    }\n",
              "</style>\n",
              "<table border=\"1\" class=\"dataframe\">\n",
              "  <thead>\n",
              "    <tr style=\"text-align: right;\">\n",
              "      <th></th>\n",
              "      <th>Country/Region</th>\n",
              "      <th>3/25/20</th>\n",
              "      <th>3/24/20</th>\n",
              "      <th>diff</th>\n",
              "      <th>size</th>\n",
              "    </tr>\n",
              "  </thead>\n",
              "  <tbody>\n",
              "    <tr>\n",
              "      <th>163</th>\n",
              "      <td>US</td>\n",
              "      <td>65778</td>\n",
              "      <td>53740</td>\n",
              "      <td>12038.0</td>\n",
              "      <td>109.717820</td>\n",
              "    </tr>\n",
              "    <tr>\n",
              "      <th>148</th>\n",
              "      <td>Spain</td>\n",
              "      <td>49515</td>\n",
              "      <td>39885</td>\n",
              "      <td>9630.0</td>\n",
              "      <td>98.132563</td>\n",
              "    </tr>\n",
              "    <tr>\n",
              "      <th>81</th>\n",
              "      <td>Italy</td>\n",
              "      <td>74386</td>\n",
              "      <td>69176</td>\n",
              "      <td>5210.0</td>\n",
              "      <td>72.180330</td>\n",
              "    </tr>\n",
              "    <tr>\n",
              "      <th>62</th>\n",
              "      <td>Germany</td>\n",
              "      <td>37323</td>\n",
              "      <td>32986</td>\n",
              "      <td>4337.0</td>\n",
              "      <td>65.855903</td>\n",
              "    </tr>\n",
              "    <tr>\n",
              "      <th>58</th>\n",
              "      <td>France</td>\n",
              "      <td>25600</td>\n",
              "      <td>22622</td>\n",
              "      <td>2978.0</td>\n",
              "      <td>54.571055</td>\n",
              "    </tr>\n",
              "    <tr>\n",
              "      <th>...</th>\n",
              "      <td>...</td>\n",
              "      <td>...</td>\n",
              "      <td>...</td>\n",
              "      <td>...</td>\n",
              "      <td>...</td>\n",
              "    </tr>\n",
              "    <tr>\n",
              "      <th>137</th>\n",
              "      <td>Saint Vincent and the Grenadines</td>\n",
              "      <td>1</td>\n",
              "      <td>1</td>\n",
              "      <td>0.0</td>\n",
              "      <td>0.000000</td>\n",
              "    </tr>\n",
              "    <tr>\n",
              "      <th>35</th>\n",
              "      <td>Congo (Brazzaville)</td>\n",
              "      <td>4</td>\n",
              "      <td>4</td>\n",
              "      <td>0.0</td>\n",
              "      <td>0.000000</td>\n",
              "    </tr>\n",
              "    <tr>\n",
              "      <th>31</th>\n",
              "      <td>Chad</td>\n",
              "      <td>3</td>\n",
              "      <td>3</td>\n",
              "      <td>0.0</td>\n",
              "      <td>0.000000</td>\n",
              "    </tr>\n",
              "    <tr>\n",
              "      <th>30</th>\n",
              "      <td>Central African Republic</td>\n",
              "      <td>3</td>\n",
              "      <td>3</td>\n",
              "      <td>0.0</td>\n",
              "      <td>0.000000</td>\n",
              "    </tr>\n",
              "    <tr>\n",
              "      <th>174</th>\n",
              "      <td>Zimbabwe</td>\n",
              "      <td>3</td>\n",
              "      <td>3</td>\n",
              "      <td>0.0</td>\n",
              "      <td>0.000000</td>\n",
              "    </tr>\n",
              "  </tbody>\n",
              "</table>\n",
              "<p>175 rows × 5 columns</p>\n",
              "</div>"
            ],
            "text/plain": [
              "                       Country/Region  3/25/20  3/24/20     diff        size\n",
              "163                                US    65778    53740  12038.0  109.717820\n",
              "148                             Spain    49515    39885   9630.0   98.132563\n",
              "81                              Italy    74386    69176   5210.0   72.180330\n",
              "62                            Germany    37323    32986   4337.0   65.855903\n",
              "58                             France    25600    22622   2978.0   54.571055\n",
              "..                                ...      ...      ...      ...         ...\n",
              "137  Saint Vincent and the Grenadines        1        1      0.0    0.000000\n",
              "35                Congo (Brazzaville)        4        4      0.0    0.000000\n",
              "31                               Chad        3        3      0.0    0.000000\n",
              "30           Central African Republic        3        3      0.0    0.000000\n",
              "174                          Zimbabwe        3        3      0.0    0.000000\n",
              "\n",
              "[175 rows x 5 columns]"
            ]
          },
          "metadata": {
            "tags": []
          },
          "execution_count": 19
        }
      ]
    }
  ]
}